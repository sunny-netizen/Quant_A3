{
 "cells": [
  {
   "cell_type": "markdown",
   "id": "d4462900-2034-46fb-9996-0f1af3459203",
   "metadata": {},
   "source": [
    "# Quantitiative Methods Reproducible Analysis for Assessment 3\n",
    "Student ID: 21197822\n",
    "\n",
    "References for code are linked for come from class practicals."
   ]
  },
  {
   "cell_type": "code",
   "execution_count": 1,
   "id": "94967fb8-04b4-47ae-aa3d-139a89914ab3",
   "metadata": {},
   "outputs": [],
   "source": [
    "#load packages\n",
    "\n",
    "import os\n",
    "import re\n",
    "import numpy as np\n",
    "import pandas as pd\n",
    "from matplotlib import pyplot as plt\n",
    "import seaborn as sns\n",
    "from sklearn.linear_model import LinearRegression\n",
    "import statsmodels.api as sm\n",
    "import sklearn\n",
    "import matplotlib.pyplot as plt"
   ]
  },
  {
   "cell_type": "markdown",
   "id": "9b49736d-a527-4f5a-aeb2-cb16dc39d58b",
   "metadata": {},
   "source": [
    "## Loading and Cleaning Data"
   ]
  },
  {
   "cell_type": "raw",
   "id": "7417dd1e-9d56-49ea-aff5-c0c326515493",
   "metadata": {},
   "source": [
    "# census data was not used\n",
    "\n",
    "# https://data.london.gov.uk/download/ward-profiles-and-atlas/5a367ec8-3bdb-4216-9f75-8368a00fe6a2/ward-atlas-data.xls\n",
    "wardatlas = pd.read_excel(\n",
    "    'https://data.london.gov.uk/download/ward-profiles-and-atlas/5a367ec8-3bdb-4216-9f75-8368a00fe6a2/ward-atlas-data.xls',\n",
    "    #sheet_name='Summary - Mean Scores',\n",
    "    header=[0,1,2])            # Where are the column names... there's three of them!\n"
   ]
  },
  {
   "cell_type": "raw",
   "id": "c1fcef81-2066-4489-b959-0a0bb3279284",
   "metadata": {},
   "source": [
    "#wardatlas.columns.values"
   ]
  },
  {
   "cell_type": "raw",
   "id": "d6ad6c38-c907-4d43-93e7-00d1e3f4b086",
   "metadata": {},
   "source": [
    "atlas0 = wardatlas[[('Unnamed: 1_level_0', 'Unnamed: 1_level_1', 'New Code'),\n",
    "                    ('Unnamed: 2_level_0', 'Unnamed: 2_level_1', 'Borough'),\n",
    "                    ('Unnamed: 3_level_0', 'Unnamed: 3_level_1', 'Names'),\n",
    "                    ('Population and Age', 'Aged 16-64', 2013),\n",
    "                    ('Population and Age', 'Aged 65+', 2013)]]\n",
    "atlas = atlas0.droplevel(0,axis=1)\n",
    "atlas = atlas.droplevel(0,axis=1)\n",
    "atlas.columns = ['New Code','Borough','Names','Aged 16-64','Aged 65+']\n",
    "atlas['Aged 16+'] = atlas['Aged 16-64'] + atlas['Aged 65+']\n",
    "borosum = atlas.groupby('Borough').agg({'Aged 16+' :'sum'})\n",
    "atlas = pd.merge(atlas, borosum, left_on = 'Borough', right_on = 'Borough', how = 'left')\n",
    "atlas.rename(columns = {'Aged 16+_x' : 'Aged 16+', 'Aged 16+_y':'Boro 16+'}, inplace=True)\n",
    "atlas['% 16+'] = atlas['Aged 16+'] / atlas['Boro 16+']\n",
    "atlas = atlas[['New Code','% 16+']]"
   ]
  },
  {
   "cell_type": "raw",
   "id": "fe6e884c-e354-413f-9a48-3934b20d9335",
   "metadata": {},
   "source": [
    "atlas0.isnull().sum(axis=0).sort_values(ascending=False)\n",
    "atlas0.tail()\n",
    "atlas.tail()\n",
    "atlas.dropna(inplace=True)\n",
    "atlas.tail()"
   ]
  },
  {
   "cell_type": "markdown",
   "id": "d37ffbb7-a862-418e-a6aa-b6120af966cc",
   "metadata": {},
   "source": [
    "### Personal Wellbeing"
   ]
  },
  {
   "cell_type": "code",
   "execution_count": 2,
   "id": "e2fa0293-a059-41f3-9f11-6e58094c311f",
   "metadata": {},
   "outputs": [],
   "source": [
    "# Load data\n",
    "# https://data.london.gov.uk/dataset/subjective-personal-well-being-borough\n",
    "wellb0 = pd.read_excel(\n",
    "    'https://data.london.gov.uk/download/subjective-personal-well-being-borough/d1bae8e8-f07b-4c2f-aec7-deed8006b52a/personal-well-being-borough.xlsx', \n",
    "    sheet_name='Summary - Mean Scores',\n",
    "    header=[0,1])            # Where are the column names... there's three of them!"
   ]
  },
  {
   "cell_type": "code",
   "execution_count": 3,
   "id": "ba63023a-eeed-4e53-91d8-135891119208",
   "metadata": {},
   "outputs": [],
   "source": [
    "# Clean data\n",
    "wellb = wellb0[[(' ', 'Code'), \n",
    "               (' ', 'Area'),\n",
    "               ('Life Satisfaction', '2018/19'),\n",
    "               ('Worthwhile', '2018/19'),\n",
    "               ('Happiness', '2018/19'),\n",
    "               ('Anxiety', '2018/19')]]\n",
    "wellb = wellb.droplevel(1, axis=1)\n",
    "wellb.columns = ['Code', 'Area', 'Life Satisfaction', 'Worthwhile', 'Happiness', 'Anxiety']\n",
    "wellb.dropna(inplace = True)\n",
    "wellb = wellb.iloc[:32]\n",
    "wellb['Happiness'] = pd.to_numeric(wellb['Happiness'])\n",
    "wellb['Anxiety'] = pd.to_numeric(wellb['Anxiety'])"
   ]
  },
  {
   "cell_type": "markdown",
   "id": "b7532cfa-69bf-4391-a555-bc2af219039b",
   "metadata": {},
   "source": [
    "### GreenBlue"
   ]
  },
  {
   "cell_type": "code",
   "execution_count": 4,
   "id": "2bcb1242-35ee-4ecd-98d8-95f7492296f9",
   "metadata": {},
   "outputs": [],
   "source": [
    "# Load data\n",
    "# https://data.london.gov.uk/dataset/green-and-blue-cover\n",
    "greenblue0 = pd.read_excel(\n",
    "    'https://data.london.gov.uk/download/green-and-blue-cover/7056efeb-d34a-4394-9d62-2f335edeacec/green_cover_ward_summary_0.05.xlsx',\n",
    "    sheet_name='ward_green_cover')"
   ]
  },
  {
   "cell_type": "code",
   "execution_count": 5,
   "id": "a6a6295e-afce-415d-99ca-2ea51e332b94",
   "metadata": {},
   "outputs": [
    {
     "name": "stderr",
     "output_type": "stream",
     "text": [
      "/opt/conda/envs/sds2021/lib/python3.9/site-packages/pandas/util/_decorators.py:311: SettingWithCopyWarning: \n",
      "A value is trying to be set on a copy of a slice from a DataFrame\n",
      "\n",
      "See the caveats in the documentation: https://pandas.pydata.org/pandas-docs/stable/user_guide/indexing.html#returning-a-view-versus-a-copy\n",
      "  return func(*args, **kwargs)\n"
     ]
    }
   ],
   "source": [
    "# Clean data\n",
    "greenblue = greenblue0[['lb_name', 'lb_code', 'ward_code', 'ward_name',\n",
    "       'percent_green', 'percent_blue', 'percent_green+blue']]\n",
    "#greenblue['percent_blue'] = np.log10(greenblue['percent_blue'])\n",
    "#greenblue['percent_blue'].replace([np.inf, -np.inf], np.nan, inplace=True)\n",
    "greenblue.dropna(inplace=True)"
   ]
  },
  {
   "cell_type": "markdown",
   "id": "523bfb10-7ef6-4fac-b987-f865c138f3ad",
   "metadata": {},
   "source": [
    "### Load Access data"
   ]
  },
  {
   "cell_type": "code",
   "execution_count": 6,
   "id": "4d7666fc-4b33-4fd1-8011-24c6ef5cd2af",
   "metadata": {},
   "outputs": [],
   "source": [
    "# Load data\n",
    "# https://data.london.gov.uk/dataset/access-public-open-space-and-nature-ward\n",
    "access_h0 = pd.read_excel(\n",
    "    'https://data.london.gov.uk/download/access-public-open-space-and-nature-ward/18fc0bef-68af-42c1-b77c-d6babbb66465/access-public-open-space-ward.xls',\n",
    "    sheet_name='Access to open space 2013 wards',\n",
    "    header=[0,1])"
   ]
  },
  {
   "cell_type": "code",
   "execution_count": 7,
   "id": "73a3e6ce-e8dd-4f63-8404-540ffd346c33",
   "metadata": {},
   "outputs": [],
   "source": [
    "#Clean data\n",
    "\n",
    "# Units: Percentage of households with access to: each type of park\n",
    "access_h= access_h0.droplevel(0, axis=1)\n",
    "access_h = access_h.iloc[:625]"
   ]
  },
  {
   "cell_type": "code",
   "execution_count": 8,
   "id": "13439975-add2-4602-80d2-f41b5477c8a0",
   "metadata": {},
   "outputs": [],
   "source": [
    "# https://data.london.gov.uk/dataset/access-public-open-space-and-nature-ward\n",
    "access_o0 = pd.read_excel(\n",
    "    'https://data.london.gov.uk/download/access-public-open-space-and-nature-ward/18fc0bef-68af-42c1-b77c-d6babbb66465/access-public-open-space-ward.xls',\n",
    "    sheet_name='Open space 2013 wards',\n",
    "    header=[0])"
   ]
  },
  {
   "cell_type": "code",
   "execution_count": 9,
   "id": "8cd94ee1-21fa-45af-89a4-da04ddaba982",
   "metadata": {},
   "outputs": [
    {
     "data": {
      "text/html": [
       "<div>\n",
       "<style scoped>\n",
       "    .dataframe tbody tr th:only-of-type {\n",
       "        vertical-align: middle;\n",
       "    }\n",
       "\n",
       "    .dataframe tbody tr th {\n",
       "        vertical-align: top;\n",
       "    }\n",
       "\n",
       "    .dataframe thead th {\n",
       "        text-align: right;\n",
       "    }\n",
       "</style>\n",
       "<table border=\"1\" class=\"dataframe\">\n",
       "  <thead>\n",
       "    <tr style=\"text-align: right;\">\n",
       "      <th></th>\n",
       "      <th>Ward_GSS_CODE</th>\n",
       "      <th>Ward_NAME</th>\n",
       "      <th>BOROUGH_LB_GSS_CD</th>\n",
       "      <th>BOROUGH_Name</th>\n",
       "      <th>% of open space that has access</th>\n",
       "    </tr>\n",
       "  </thead>\n",
       "  <tbody>\n",
       "    <tr>\n",
       "      <th>619</th>\n",
       "      <td>E05000645</td>\n",
       "      <td>Tachbrook</td>\n",
       "      <td>E09000033</td>\n",
       "      <td>Westminster</td>\n",
       "      <td>64.713326</td>\n",
       "    </tr>\n",
       "    <tr>\n",
       "      <th>620</th>\n",
       "      <td>E05000646</td>\n",
       "      <td>Vincent Square</td>\n",
       "      <td>E09000033</td>\n",
       "      <td>Westminster</td>\n",
       "      <td>58.893270</td>\n",
       "    </tr>\n",
       "    <tr>\n",
       "      <th>621</th>\n",
       "      <td>E05000647</td>\n",
       "      <td>Warwick</td>\n",
       "      <td>E09000033</td>\n",
       "      <td>Westminster</td>\n",
       "      <td>20.429739</td>\n",
       "    </tr>\n",
       "    <tr>\n",
       "      <th>622</th>\n",
       "      <td>E05000648</td>\n",
       "      <td>Westbourne</td>\n",
       "      <td>E09000033</td>\n",
       "      <td>Westminster</td>\n",
       "      <td>41.628560</td>\n",
       "    </tr>\n",
       "    <tr>\n",
       "      <th>623</th>\n",
       "      <td>E05000649</td>\n",
       "      <td>West End</td>\n",
       "      <td>E09000033</td>\n",
       "      <td>Westminster</td>\n",
       "      <td>38.690776</td>\n",
       "    </tr>\n",
       "  </tbody>\n",
       "</table>\n",
       "</div>"
      ],
      "text/plain": [
       "    Ward_GSS_CODE       Ward_NAME BOROUGH_LB_GSS_CD BOROUGH_Name  \\\n",
       "619     E05000645       Tachbrook         E09000033  Westminster   \n",
       "620     E05000646  Vincent Square         E09000033  Westminster   \n",
       "621     E05000647         Warwick         E09000033  Westminster   \n",
       "622     E05000648      Westbourne         E09000033  Westminster   \n",
       "623     E05000649        West End         E09000033  Westminster   \n",
       "\n",
       "     % of open space that has access  \n",
       "619                        64.713326  \n",
       "620                        58.893270  \n",
       "621                        20.429739  \n",
       "622                        41.628560  \n",
       "623                        38.690776  "
      ]
     },
     "execution_count": 9,
     "metadata": {},
     "output_type": "execute_result"
    }
   ],
   "source": [
    "access_o = access_o0[['Ward_GSS_CODE','Ward_NAME','BOROUGH_LB_GSS_CD','BOROUGH_Name',\n",
    "                      '% of open space that has access']]\n",
    "access_o = access_o.iloc[:624]\n",
    "access_o.tail()\n",
    "# no city of London, 'Ward_GSS_CODE'=='E09000001'"
   ]
  },
  {
   "cell_type": "markdown",
   "id": "931827ba-f7bb-4bd8-a75d-b7102cb52172",
   "metadata": {},
   "source": [
    "## Merging Data"
   ]
  },
  {
   "cell_type": "code",
   "execution_count": 10,
   "id": "e991ded5-6171-469f-bfdb-64717b128e13",
   "metadata": {},
   "outputs": [
    {
     "name": "stdout",
     "output_type": "stream",
     "text": [
      "(625, 8)\n",
      "(624, 5)\n",
      "(657, 7)\n",
      "(32, 6)\n",
      "\n",
      "(33,)\n",
      "(32,)\n",
      "(33,)\n",
      "(32,)\n",
      "\n",
      "(604,)\n",
      "(624,)\n",
      "(638,)\n"
     ]
    }
   ],
   "source": [
    "#Checking data before merging\n",
    "\n",
    "#Greater London is composed of London boroughs, the 32 local authority districts\n",
    "#City of London has 25 wards\n",
    "print(access_h.shape)\n",
    "print(access_o.shape)\n",
    "print(greenblue.shape)\n",
    "print(wellb.shape)\n",
    "#print(atlas.shape)\n",
    "print('')\n",
    "print(access_h['Borough name'].unique().shape)\n",
    "print(access_o['BOROUGH_Name'].unique().shape)\n",
    "print(greenblue['lb_name'].unique().shape)\n",
    "print(wellb['Area'].unique().shape)\n",
    "print('')\n",
    "print(access_h['Ward name'].unique().shape)\n",
    "print(access_o['Ward_GSS_CODE'].unique().shape)\n",
    "print(greenblue['ward_name'].unique().shape)"
   ]
  },
  {
   "cell_type": "code",
   "execution_count": 11,
   "id": "624d687c-77a4-48fa-a9b9-e676fb51c0ca",
   "metadata": {},
   "outputs": [
    {
     "name": "stdout",
     "output_type": "stream",
     "text": [
      "(624, 13)\n",
      "(600, 20)\n",
      "(600, 26)\n",
      "(600, 16)\n"
     ]
    }
   ],
   "source": [
    "#Merging\n",
    "\n",
    "df = pd.merge(access_h, access_o, left_on='WD13CD', right_on='Ward_GSS_CODE', how='inner')\n",
    "print(df.shape)\n",
    "\n",
    "#df = pd.merge(df, greenblue, left_on='WD13CD', right_on='ward_code', how='inner')\n",
    "df = pd.merge(df, greenblue, left_on='Ward_NAME', right_on='ward_name', how='inner')\n",
    "print(df.shape)\n",
    "\n",
    "df = pd.merge(df, wellb, left_on='lb_code', right_on='Code', how='left')\n",
    "print(df.shape)\n",
    "\n",
    "df = df[['WD13CD', 'Ward name', 'Borough name', \n",
    "         \n",
    "         # Mean per ward = borough mean * (pop ratio of ward /borough)\n",
    "         'Life Satisfaction', 'Worthwhile', 'Happiness', 'Anxiety',\n",
    "         \n",
    "         # Percentage of households in ward with access to\n",
    "         'Open Space', 'Local Parks', 'District Parks', 'Metropolitan Parks', 'Regional Parks',\n",
    "         \n",
    "         # Per ward\n",
    "         '% of open space that has access',\n",
    "         \n",
    "         # Coverage per ward\n",
    "         'percent_green', 'percent_blue', 'percent_green+blue']]\n",
    "             \n",
    "print(df.shape)\n",
    "\n",
    "#df.isnull().sum(axis=0).sort_values(ascending=False)\n",
    "df.dropna(inplace=True)\n",
    "#df.dtypes\n",
    "#df.isnull().sum(axis=0).sort_values(ascending=False)"
   ]
  },
  {
   "cell_type": "code",
   "execution_count": 12,
   "id": "41dd05dc-d09f-409e-ad01-dfe8ffdfe32c",
   "metadata": {},
   "outputs": [],
   "source": [
    "# Some subsets for manipulation\n",
    "\n",
    "dfplot = df.drop(columns=['WD13CD', 'Ward name', 'Borough name'])\n",
    "\n",
    "df0 = df[['Life Satisfaction', 'Worthwhile', 'Happiness', 'Anxiety']]\n",
    "\n",
    "df1 = df[['Open Space', 'Local Parks', 'District Parks', 'Metropolitan Parks', 'Regional Parks',\n",
    "                     '% of open space that has access']]\n",
    "\n",
    "df2 = df[['percent_green', 'percent_blue', 'percent_green+blue']]"
   ]
  },
  {
   "cell_type": "markdown",
   "id": "b5c61b3e-6119-4541-a35b-2ab9a110edbb",
   "metadata": {},
   "source": [
    "## Plotting Distributions"
   ]
  },
  {
   "cell_type": "code",
   "execution_count": 13,
   "id": "0d84a212-88f5-41b8-a0c8-65f33dfc6f3b",
   "metadata": {},
   "outputs": [
    {
     "name": "stderr",
     "output_type": "stream",
     "text": [
      "/opt/conda/envs/sds2021/lib/python3.9/site-packages/seaborn/_decorators.py:36: FutureWarning: Pass the following variable as a keyword arg: x. From version 0.12, the only valid positional argument will be `data`, and passing other arguments without an explicit keyword will result in an error or misinterpretation.\n",
      "  warnings.warn(\n",
      "/opt/conda/envs/sds2021/lib/python3.9/site-packages/seaborn/_decorators.py:36: FutureWarning: Pass the following variable as a keyword arg: x. From version 0.12, the only valid positional argument will be `data`, and passing other arguments without an explicit keyword will result in an error or misinterpretation.\n",
      "  warnings.warn(\n",
      "/opt/conda/envs/sds2021/lib/python3.9/site-packages/seaborn/_decorators.py:36: FutureWarning: Pass the following variable as a keyword arg: x. From version 0.12, the only valid positional argument will be `data`, and passing other arguments without an explicit keyword will result in an error or misinterpretation.\n",
      "  warnings.warn(\n",
      "/opt/conda/envs/sds2021/lib/python3.9/site-packages/seaborn/_decorators.py:36: FutureWarning: Pass the following variable as a keyword arg: x. From version 0.12, the only valid positional argument will be `data`, and passing other arguments without an explicit keyword will result in an error or misinterpretation.\n",
      "  warnings.warn(\n"
     ]
    },
    {
     "data": {
      "image/png": "[encoded data removed]",
      "text/plain": [
       "<Figure size 1224x288 with 8 Axes>"
      ]
     },
     "metadata": {},
     "output_type": "display_data"
    }
   ],
   "source": [
    "sns.set(style=\"darkgrid\")\n",
    "fig = plt.figure(figsize=(17, 4))\n",
    "gs = fig.add_gridspec(1, 4, wspace=0.25, hspace=0)\n",
    "\n",
    "gssub0 = gs[0].subgridspec(2, 1, height_ratios=(.15, .85)) \n",
    "ax0h = fig.add_subplot(gssub0[1])\n",
    "ax0b = fig.add_subplot(gssub0[0], sharex = ax0h)\n",
    "\n",
    "gssub1 = gs[1].subgridspec(2, 1, height_ratios=(.15, .85)) \n",
    "ax1h = fig.add_subplot(gssub1[1])\n",
    "ax1b = fig.add_subplot(gssub1[0], sharex = ax1h)\n",
    "\n",
    "gssub2 = gs[2].subgridspec(2, 1, height_ratios=(.15, .85)) \n",
    "ax2h = fig.add_subplot(gssub2[1])\n",
    "ax2b = fig.add_subplot(gssub2[0], sharex = ax2h)\n",
    "\n",
    "gssub3 = gs[3].subgridspec(2, 1, height_ratios=(.15, .85)) \n",
    "ax3h = fig.add_subplot(gssub3[1])\n",
    "ax3b = fig.add_subplot(gssub3[0], sharex = ax3h)\n",
    "\n",
    "sns.boxplot(df['Life Satisfaction'], ax=ax0b)\n",
    "sns.boxplot(df['Worthwhile'], ax=ax1b)\n",
    "sns.boxplot(df['Happiness'], ax=ax2b)\n",
    "sns.boxplot(df['Anxiety'], ax=ax3b)\n",
    "\n",
    "sns.histplot(data=df, x=\"Life Satisfaction\", ax=ax0h)\n",
    "sns.histplot(data=df, x='Worthwhile', ax=ax1h)\n",
    "sns.histplot(data=df, x='Happiness', ax=ax2h)\n",
    "sns.histplot(data=df, x='Anxiety', ax=ax3h)\n",
    "\n",
    "ax0b.set(xlabel='', title='Fig.1a) Dep. Var: Life Satisfaction')\n",
    "ax1b.set(xlabel='', title='Fig.1b) Dep. Var: Worthwhileness')\n",
    "ax2b.set(xlabel='', title='Fig.1c) Dep. Var: Happiness')\n",
    "ax3b.set(xlabel='', title='Fig.1d) Dep. Var: Anxiety')\n",
    "\n",
    "ax0h.set(ylabel='Ward Count')\n",
    "ax1h.set(ylabel='')\n",
    "ax2h.set(ylabel='')\n",
    "ax3h.set(ylabel='')\n",
    "\n",
    "ax0h.set(xlabel='Satisfaction Mean Score')\n",
    "ax1h.set(xlabel='Worthwhilness Mean Score')\n",
    "ax2h.set(xlabel='Happiness Mean Score')\n",
    "ax3h.set(xlabel='Anxiety Mean Score')\n",
    "\n",
    "plt.show()\n",
    "\n",
    "#https://www.python-graph-gallery.com/24-histogram-with-a-boxplot-on-top-seaborn\n",
    "#https://matplotlib.org/3.1.1/api/_as_gen/matplotlib.gridspec.GridSpecFromSubplotSpec.html#matplotlib.gridspec.GridSpecFromSubplotSpec"
   ]
  },
  {
   "cell_type": "code",
   "execution_count": 14,
   "id": "1292dc13-66e3-4343-9013-7a15a0b3b168",
   "metadata": {},
   "outputs": [
    {
     "name": "stderr",
     "output_type": "stream",
     "text": [
      "/opt/conda/envs/sds2021/lib/python3.9/site-packages/seaborn/_decorators.py:36: FutureWarning: Pass the following variable as a keyword arg: x. From version 0.12, the only valid positional argument will be `data`, and passing other arguments without an explicit keyword will result in an error or misinterpretation.\n",
      "  warnings.warn(\n",
      "/opt/conda/envs/sds2021/lib/python3.9/site-packages/seaborn/_decorators.py:36: FutureWarning: Pass the following variable as a keyword arg: x. From version 0.12, the only valid positional argument will be `data`, and passing other arguments without an explicit keyword will result in an error or misinterpretation.\n",
      "  warnings.warn(\n",
      "/opt/conda/envs/sds2021/lib/python3.9/site-packages/seaborn/_decorators.py:36: FutureWarning: Pass the following variable as a keyword arg: x. From version 0.12, the only valid positional argument will be `data`, and passing other arguments without an explicit keyword will result in an error or misinterpretation.\n",
      "  warnings.warn(\n"
     ]
    },
    {
     "data": {
      "image/png": "[encoded data removed]",
      "text/plain": [
       "<Figure size 1224x288 with 6 Axes>"
      ]
     },
     "metadata": {},
     "output_type": "display_data"
    }
   ],
   "source": [
    "sns.set(style=\"darkgrid\")\n",
    "fig = plt.figure(figsize=(17, 4))\n",
    "gs = fig.add_gridspec(1, 4, wspace=0.25, hspace=0)\n",
    "\n",
    "gssub0 = gs[0].subgridspec(2, 1, height_ratios=(.15, .85)) \n",
    "ax0h = fig.add_subplot(gssub0[1])\n",
    "ax0b = fig.add_subplot(gssub0[0], sharex = ax0h)\n",
    "\n",
    "gssub1 = gs[1].subgridspec(2, 1, height_ratios=(.15, .85)) \n",
    "ax1h = fig.add_subplot(gssub1[1])\n",
    "ax1b = fig.add_subplot(gssub1[0], sharex = ax1h)\n",
    "\n",
    "gssub2 = gs[2].subgridspec(2, 1, height_ratios=(.15, .85)) \n",
    "ax2h = fig.add_subplot(gssub2[1])\n",
    "ax2b = fig.add_subplot(gssub2[0], sharex = ax2h)\n",
    "\n",
    "sns.boxplot(df['Open Space'], ax=ax0b)\n",
    "sns.boxplot(df['Local Parks'], ax=ax1b)\n",
    "sns.boxplot(df['District Parks'], ax=ax2b)\n",
    "\n",
    "sns.histplot(data=df, x=\"Open Space\", ax=ax0h)\n",
    "sns.histplot(data=df, x='Local Parks', ax=ax1h)\n",
    "sns.histplot(data=df, x='District Parks', ax=ax2h)\n",
    "\n",
    "ax0b.set(xlabel='', title='Fig.3a) Ind. Var: Open Space')\n",
    "ax1b.set(xlabel='', title='Fig.3b) Ind. Var: Local Parks')\n",
    "ax2b.set(xlabel='', title='Fig.3c) Ind. Var: District Parks')\n",
    "\n",
    "ax0h.set(ylabel='Ward Count')\n",
    "ax1h.set(ylabel='')\n",
    "ax2h.set(ylabel='')\n",
    "\n",
    "ax0h.set(xlabel='% Households w/access to Open Space')\n",
    "ax1h.set(xlabel='% Households w/access to Local Parks')\n",
    "ax2h.set(xlabel='% Households w/access to District Parks')\n",
    "\n",
    "plt.show()"
   ]
  },
  {
   "cell_type": "code",
   "execution_count": 15,
   "id": "aa6221f3-8715-4c2a-9c20-b0cfcc05e635",
   "metadata": {},
   "outputs": [
    {
     "name": "stderr",
     "output_type": "stream",
     "text": [
      "/opt/conda/envs/sds2021/lib/python3.9/site-packages/seaborn/_decorators.py:36: FutureWarning: Pass the following variable as a keyword arg: x. From version 0.12, the only valid positional argument will be `data`, and passing other arguments without an explicit keyword will result in an error or misinterpretation.\n",
      "  warnings.warn(\n",
      "/opt/conda/envs/sds2021/lib/python3.9/site-packages/seaborn/_decorators.py:36: FutureWarning: Pass the following variable as a keyword arg: x. From version 0.12, the only valid positional argument will be `data`, and passing other arguments without an explicit keyword will result in an error or misinterpretation.\n",
      "  warnings.warn(\n",
      "/opt/conda/envs/sds2021/lib/python3.9/site-packages/seaborn/_decorators.py:36: FutureWarning: Pass the following variable as a keyword arg: x. From version 0.12, the only valid positional argument will be `data`, and passing other arguments without an explicit keyword will result in an error or misinterpretation.\n",
      "  warnings.warn(\n"
     ]
    },
    {
     "data": {
      "image/png": "[encoded data removed]",
      "text/plain": [
       "<Figure size 1224x288 with 6 Axes>"
      ]
     },
     "metadata": {},
     "output_type": "display_data"
    }
   ],
   "source": [
    "sns.set(style=\"darkgrid\")\n",
    "fig = plt.figure(figsize=(17, 4))\n",
    "gs = fig.add_gridspec(1, 4, wspace=0.25, hspace=0)\n",
    "\n",
    "gssub0 = gs[0].subgridspec(2, 1, height_ratios=(.15, .85)) \n",
    "ax0h = fig.add_subplot(gssub0[1])\n",
    "ax0b = fig.add_subplot(gssub0[0], sharex = ax0h)\n",
    "\n",
    "gssub1 = gs[1].subgridspec(2, 1, height_ratios=(.15, .85)) \n",
    "ax1h = fig.add_subplot(gssub1[1])\n",
    "ax1b = fig.add_subplot(gssub1[0], sharex = ax1h)\n",
    "\n",
    "gssub2 = gs[2].subgridspec(2, 1, height_ratios=(.15, .85)) \n",
    "ax2h = fig.add_subplot(gssub2[1])\n",
    "ax2b = fig.add_subplot(gssub2[0], sharex = ax2h)\n",
    "\n",
    "sns.boxplot(df['Metropolitan Parks'], ax=ax0b)\n",
    "sns.boxplot(df['Regional Parks'], ax=ax1b)\n",
    "sns.boxplot(df['% of open space that has access'], ax=ax2b)\n",
    "\n",
    "sns.histplot(data=df, x=\"Metropolitan Parks\", ax=ax0h)\n",
    "sns.histplot(data=df, x='Regional Parks', ax=ax1h)\n",
    "sns.histplot(data=df, x='% of open space that has access', ax=ax2h)\n",
    "\n",
    "ax0b.set(xlabel='', title='Fig.3d) Ind. Var: Metropolitan Parks')\n",
    "ax1b.set(xlabel='', title='Fig.3e) Ind. Var: Regional Parks')\n",
    "ax2b.set(xlabel='', title='Fig.3f) Ind. Var: % Open Space w/Access')\n",
    "\n",
    "ax0h.set(ylabel='Ward Count')\n",
    "ax1h.set(ylabel='')\n",
    "ax2h.set(ylabel='')\n",
    "\n",
    "ax0h.set(xlabel='% Hh w/access to Metrop. Parks')\n",
    "ax1h.set(xlabel='% Households w/access to Regional Parks')\n",
    "ax2h.set(xlabel='% Open Space with Access')\n",
    "\n",
    "plt.show()"
   ]
  },
  {
   "cell_type": "code",
   "execution_count": 17,
   "id": "9448f853-dd4c-400f-b03c-9f2ddd298eec",
   "metadata": {},
   "outputs": [
    {
     "name": "stderr",
     "output_type": "stream",
     "text": [
      "/opt/conda/envs/sds2021/lib/python3.9/site-packages/seaborn/_decorators.py:36: FutureWarning: Pass the following variable as a keyword arg: x. From version 0.12, the only valid positional argument will be `data`, and passing other arguments without an explicit keyword will result in an error or misinterpretation.\n",
      "  warnings.warn(\n",
      "/opt/conda/envs/sds2021/lib/python3.9/site-packages/seaborn/_decorators.py:36: FutureWarning: Pass the following variable as a keyword arg: x. From version 0.12, the only valid positional argument will be `data`, and passing other arguments without an explicit keyword will result in an error or misinterpretation.\n",
      "  warnings.warn(\n",
      "/opt/conda/envs/sds2021/lib/python3.9/site-packages/seaborn/_decorators.py:36: FutureWarning: Pass the following variable as a keyword arg: x. From version 0.12, the only valid positional argument will be `data`, and passing other arguments without an explicit keyword will result in an error or misinterpretation.\n",
      "  warnings.warn(\n"
     ]
    },
    {
     "data": {
      "image/png": "[encoded data removed]",
      "text/plain": [
       "<Figure size 1224x288 with 6 Axes>"
      ]
     },
     "metadata": {},
     "output_type": "display_data"
    }
   ],
   "source": [
    "sns.set(style=\"darkgrid\")\n",
    "fig = plt.figure(figsize=(17, 4))\n",
    "gs = fig.add_gridspec(1, 4, wspace=0.25, hspace=0)\n",
    "\n",
    "gssub0 = gs[0].subgridspec(2, 1, height_ratios=(.15, .85)) \n",
    "ax0h = fig.add_subplot(gssub0[1])\n",
    "ax0b = fig.add_subplot(gssub0[0], sharex = ax0h)\n",
    "\n",
    "gssub1 = gs[1].subgridspec(2, 1, height_ratios=(.15, .85)) \n",
    "ax1h = fig.add_subplot(gssub1[1])\n",
    "ax1b = fig.add_subplot(gssub1[0], sharex = ax1h)\n",
    "\n",
    "gssub2 = gs[2].subgridspec(2, 1, height_ratios=(.15, .85)) \n",
    "ax2h = fig.add_subplot(gssub2[1])\n",
    "ax2b = fig.add_subplot(gssub2[0], sharex = ax2h)\n",
    "\n",
    "sns.boxplot(df['percent_green'], ax=ax0b)\n",
    "sns.boxplot(df['percent_blue'], ax=ax1b)\n",
    "sns.boxplot(df['percent_green+blue'], ax=ax2b)\n",
    "\n",
    "sns.histplot(data=df, x=\"percent_green\", ax=ax0h)\n",
    "sns.histplot(data=df, x='percent_blue', ax=ax1h)\n",
    "sns.histplot(data=df, x='percent_green+blue', ax=ax2h)\n",
    "\n",
    "ax0b.set(xlabel='', title='Fig.2a) Ind. Var: % Green Cover')\n",
    "ax1b.set(xlabel='', title='Fig.2b) Ind. Var: % Blue Cover')\n",
    "ax2b.set(xlabel='', title='Fig.2c) Ind. Var: % Green + Blue Cover')\n",
    "\n",
    "ax0h.set(ylabel='Ward Count')\n",
    "ax1h.set(ylabel='')\n",
    "ax2h.set(ylabel='')\n",
    "\n",
    "ax0h.set(xlabel='% Green Cover')\n",
    "ax1h.set(xlabel='% Blue Cover')\n",
    "ax2h.set(xlabel='% Green + Blue Cover')\n",
    "\n",
    "plt.show()"
   ]
  },
  {
   "cell_type": "code",
   "execution_count": 18,
   "id": "88449a36-4ebe-4822-89ba-5fe9450edc5c",
   "metadata": {},
   "outputs": [],
   "source": [
    "df1 = df[['Open Space', 'Local Parks', 'District Parks', 'Metropolitan Parks', 'Regional Parks',\n",
    "                     '% of open space that has access']]\n",
    "\n",
    "df2 = df[['percent_green', 'percent_blue', 'percent_green+blue']]"
   ]
  },
  {
   "cell_type": "markdown",
   "id": "a7fc8978-445b-467b-94e7-1d337ea6fb58",
   "metadata": {},
   "source": [
    "## Multicollinearity\n",
    "(Multi)Collinearity occurs when two (or more) variables are highly correlated.\n",
    "- Visualising correlation with correlation matrices.\n",
    "- Detecting collinearity with Variance Inflation Factor (VIF)"
   ]
  },
  {
   "cell_type": "code",
   "execution_count": 19,
   "id": "a2b7c97c-eca1-43e9-b612-6adc47ad0877",
   "metadata": {},
   "outputs": [
    {
     "name": "stdout",
     "output_type": "stream",
     "text": [
      "[[ 1.00000000e+00  7.23777778e-01  7.21242159e-01 -4.44448988e-01\n",
      "  -2.53507995e-01 -1.32300420e-01 -7.48327955e-02 -2.20056592e-02\n",
      "  -1.07233788e-02 -6.00623501e-02  1.34597597e-01 -1.81623605e-02\n",
      "   1.29075122e-01]\n",
      " [ 7.23777778e-01  1.00000000e+00  6.58924470e-01 -3.32769964e-01\n",
      "  -2.26768295e-01 -8.00195359e-02 -7.09048871e-02 -1.75645108e-02\n",
      "   2.10798266e-02 -2.71056307e-02  1.26152491e-01 -3.83093794e-03\n",
      "   1.25416808e-01]\n",
      " [ 7.21242159e-01  6.58924470e-01  1.00000000e+00 -5.51328914e-01\n",
      "  -3.77233459e-01 -3.78044636e-02 -4.81770710e-02 -5.27121747e-02\n",
      "  -1.26286532e-01 -4.40824942e-02  5.10752536e-02 -3.79659853e-02\n",
      "   3.85203567e-02]\n",
      " [-4.44448988e-01 -3.32769964e-01 -5.51328914e-01  1.00000000e+00\n",
      "   9.74867427e-02  2.54588739e-01  4.22078918e-02  2.28023286e-01\n",
      "  -4.74159438e-03  4.29080367e-02 -2.08190565e-01  5.97077012e-02\n",
      "  -1.89007254e-01]\n",
      " [-2.53507995e-01 -2.26768295e-01 -3.77233459e-01  9.74867427e-02\n",
      "   1.00000000e+00 -2.82741946e-04 -2.09948885e-02 -3.42216494e-02\n",
      "   9.98134768e-02  2.25761589e-01 -3.81627578e-02  1.19536832e-01\n",
      "   1.90504867e-03]\n",
      " [-1.32300420e-01 -8.00195359e-02 -3.78044636e-02  2.54588739e-01\n",
      "  -2.82741946e-04  1.00000000e+00 -2.06228089e-01  1.32007556e-01\n",
      "  -7.91094421e-02  6.37482031e-02 -2.45810952e-01  5.15684042e-02\n",
      "  -2.29532423e-01]\n",
      " [-7.48327955e-02 -7.09048871e-02 -4.81770710e-02  4.22078918e-02\n",
      "  -2.09948885e-02 -2.06228089e-01  1.00000000e+00 -1.57034163e-01\n",
      "   4.41917415e-02  1.23254688e-01  1.24239003e-01  6.97402151e-03\n",
      "   1.27131801e-01]\n",
      " [-2.20056592e-02 -1.75645108e-02 -5.27121747e-02  2.28023286e-01\n",
      "  -3.42216494e-02  1.32007556e-01 -1.57034163e-01  1.00000000e+00\n",
      "  -1.04971314e-01  1.24456923e-02 -5.28909543e-02 -9.40149457e-02\n",
      "  -8.47679663e-02]\n",
      " [-1.07233788e-02  2.10798266e-02 -1.26286532e-01 -4.74159438e-03\n",
      "   9.98134768e-02 -7.91094421e-02  4.41917415e-02 -1.04971314e-01\n",
      "   1.00000000e+00  1.12440997e-01 -1.06348282e-01  1.11951502e-01\n",
      "  -6.91329718e-02]\n",
      " [-6.00623501e-02 -2.71056307e-02 -4.40824942e-02  4.29080367e-02\n",
      "   2.25761589e-01  6.37482031e-02  1.23254688e-01  1.24456923e-02\n",
      "   1.12440997e-01  1.00000000e+00  1.51469839e-02  2.46897705e-01\n",
      "   9.83176666e-02]\n",
      " [ 1.34597597e-01  1.26152491e-01  5.10752536e-02 -2.08190565e-01\n",
      "  -3.81627578e-02 -2.45810952e-01  1.24239003e-01 -5.28909543e-02\n",
      "  -1.06348282e-01  1.51469839e-02  1.00000000e+00 -1.80574646e-01\n",
      "   9.43609549e-01]\n",
      " [-1.81623605e-02 -3.83093794e-03 -3.79659853e-02  5.97077012e-02\n",
      "   1.19536832e-01  5.15684042e-02  6.97402151e-03 -9.40149457e-02\n",
      "   1.11951502e-01  2.46897705e-01 -1.80574646e-01  1.00000000e+00\n",
      "   1.55226276e-01]\n",
      " [ 1.29075122e-01  1.25416808e-01  3.85203567e-02 -1.89007254e-01\n",
      "   1.90504867e-03 -2.29532423e-01  1.27131801e-01 -8.47679663e-02\n",
      "  -6.91329718e-02  9.83176666e-02  9.43609549e-01  1.55226276e-01\n",
      "   1.00000000e+00]]\n"
     ]
    }
   ],
   "source": [
    "# Correlation Matrix\n",
    "\n",
    "# Input data must be in columns of numbers without column labels, saved in a csv.\n",
    "# Each column is a data series, X0, X1, X2, etc.\n",
    "# resaving replaces existing file\n",
    "dfplot.to_csv('prematrix.csv', header=False, index=False)\n",
    "\n",
    "# read csv\n",
    "prematrix = np.genfromtxt('prematrix.csv',delimiter = ',')\n",
    "\n",
    "# generate correlation matrix\n",
    "correlation_matrix = np.corrcoef(prematrix.T)\n",
    "\n",
    "# correlation_matrix[i,j] is the correlation between the series Xi and Xj.\n",
    "print(correlation_matrix)"
   ]
  },
  {
   "cell_type": "code",
   "execution_count": null,
   "id": "f97bf89e-92be-40e8-8411-bac1fe39c42e",
   "metadata": {},
   "outputs": [],
   "source": [
    "# Correlation Matrix Visualisation\n",
    "\n",
    "plt.rcParams[\"axes.grid\"] = False\n",
    "f = plt.figure(figsize=(15, 13))\n",
    "\n",
    "plt.matshow(dfplot.corr(), fignum=f.number)\n",
    "plt.xticks(range(dfplot.shape[1]), dfplot.columns, fontsize=14, rotation=80)\n",
    "plt.yticks(range(dfplot.shape[1]), dfplot.columns, fontsize=14)\n",
    "plt.title('Fig.4) Correlation Matrix', fontsize=16)\n",
    "\n",
    "cb = plt.colorbar()\n",
    "cb.ax.tick_params(labelsize=14)\n",
    "\n",
    "f.savefig(os.path.join('corr_matrix'), dpi=200)"
   ]
  },
  {
   "cell_type": "markdown",
   "id": "c10399b2-16ab-4e62-badb-cbeb1861fd4f",
   "metadata": {},
   "source": [
    "I predict ... to be collinear"
   ]
  },
  {
   "cell_type": "code",
   "execution_count": null,
   "id": "09986bda-ac5f-49d7-8bcc-a2a9cbe50be6",
   "metadata": {},
   "outputs": [],
   "source": [
    "# calculating VIF to drop collinear variables\n",
    "# This function is adjusted from: https://stackoverflow.com/a/51329496/4667568\n",
    "from statsmodels.stats.outliers_influence import variance_inflation_factor \n",
    "from statsmodels.tools.tools import add_constant\n",
    "\n",
    "def drop_column_using_vif_(df, thresh=5):\n",
    "    '''\n",
    "    Calculates VIF each feature in a pandas dataframe, and repeatedly drop the columns with the highest VIF\n",
    "    A constant must be added to variance_inflation_factor or the results will be incorrect\n",
    "\n",
    "    :param df: the pandas dataframe containing only the predictor features, not the response variable\n",
    "    :param thresh: (default 5) the threshould VIF value. If the VIF of a variable is greater than thresh, it should be removed from the dataframe\n",
    "    :return: dataframe with multicollinear features removed\n",
    "    '''\n",
    "    while True:\n",
    "        # adding a constatnt item to the data\n",
    "        df_with_const = add_constant(df)\n",
    "\n",
    "        vif_df = pd.Series([variance_inflation_factor(df_with_const.values, i) \n",
    "               for i in range(df_with_const.shape[1])], name= \"VIF\",\n",
    "              index=df_with_const.columns).to_frame()\n",
    "\n",
    "        # drop the const\n",
    "        vif_df = vif_df.drop('const')\n",
    "        \n",
    "        # if the largest VIF is above the thresh, remove a variable with the largest VIF\n",
    "        # If there are multiple variabels with VIF>thresh, only one of them is removed. This is because we want to keep as many variables as possible\n",
    "        if vif_df.VIF.max() > thresh:\n",
    "            # If there are multiple variables with the maximum VIF, choose the first one\n",
    "            index_to_drop = vif_df.index[vif_df.VIF == vif_df.VIF.max()].tolist()[0]\n",
    "            print('Dropping: {}'.format(index_to_drop))\n",
    "            df = df.drop(columns = index_to_drop)\n",
    "        else:\n",
    "            # No VIF is above threshold. Exit the loop\n",
    "            break\n",
    "\n",
    "    return df"
   ]
  },
  {
   "cell_type": "code",
   "execution_count": null,
   "id": "399fa284-c604-4bfc-b95b-1ea1ac975fd1",
   "metadata": {},
   "outputs": [],
   "source": [
    "noncoll = drop_column_using_vif_(\n",
    "    dfplot.drop('Life Satisfaction',axis=1)\n",
    "            .drop('Worthwhile',axis=1)\n",
    "            .drop('Happiness',axis=1)\n",
    "            .drop('Anxiety',axis=1)\n",
    "#            .drop('Open Space',axis=1)\n",
    ")"
   ]
  },
  {
   "cell_type": "markdown",
   "id": "e774114d-bd61-4490-819d-c3bec39499c3",
   "metadata": {},
   "source": [
    "## Multiple Regression"
   ]
  },
  {
   "cell_type": "code",
   "execution_count": null,
   "id": "86de7e25-9e5b-4a6a-9f27-1ebb0ba64dba",
   "metadata": {},
   "outputs": [],
   "source": [
    "import statsmodels.api as sm"
   ]
  },
  {
   "cell_type": "code",
   "execution_count": null,
   "id": "5bf7f1eb-88c5-463c-894c-564f6f18c746",
   "metadata": {},
   "outputs": [],
   "source": [
    "satis = sm.OLS(endog = dfplot[['Life Satisfaction']], \n",
    "              exog = sm.add_constant(noncoll)).fit()\n",
    "worth = sm.OLS(endog = dfplot[['Worthwhile']], \n",
    "              exog = sm.add_constant(noncoll)).fit()\n",
    "happy = sm.OLS(endog = dfplot[['Happiness']], \n",
    "              exog = sm.add_constant(noncoll)).fit()\n",
    "anxi = sm.OLS(endog = dfplot[['Anxiety']], \n",
    "              exog = sm.add_constant(noncoll)).fit()\n",
    "\n",
    "#satis.summary()\n",
    "worth.summary()\n",
    "#happy.summary()\n",
    "#anxi.summary()"
   ]
  },
  {
   "cell_type": "code",
   "execution_count": null,
   "id": "3cb91364-c4be-4b4c-b9fb-b0de4138200b",
   "metadata": {},
   "outputs": [],
   "source": [
    "# Visualise Residuals \n",
    "\n",
    "fig1, ax = plt.subplots()#figsize=(8,6))\n",
    "ax.scatter(x=satis.fittedvalues , y=satis.resid)\n",
    "ax.axhline(y=0, color = 'black', linestyle='-')\n",
    "plt.title('Fig.5a) Life Satisfaction: Residuals vs. Fits')\n",
    "plt.xlabel('Fitted Values')\n",
    "plt.ylabel('Residuals')\n",
    "plt.show()\n",
    "\n",
    "fig2 = plt.hist(satis.resid)\n",
    "plt.title('Fig.5b) Life Satisfaction: Residuals')\n",
    "plt.xlabel('Residuals')\n",
    "plt.ylabel('Counts')\n",
    "plt.show()\n",
    "\n",
    "\n",
    "\n",
    "fig3, ax = plt.subplots()#figsize=(8,6))\n",
    "ax.scatter(x=worth.fittedvalues , y=worth.resid)\n",
    "ax.axhline(y=0, color = 'black', linestyle='-')\n",
    "plt.title('Fig.6a) Worthwhile: Residuals vs. Fits')\n",
    "plt.xlabel('Fitted Values')\n",
    "plt.ylabel('Residuals')\n",
    "plt.show()\n",
    "\n",
    "fig4 = plt.hist(worth.resid)\n",
    "plt.title('Fig.6b) Worthwhile: Residuals')\n",
    "plt.xlabel('Residuals')\n",
    "plt.ylabel('Counts')\n",
    "plt.show()\n",
    "\n",
    "\n",
    "\n",
    "fig5, ax = plt.subplots()#figsize=(8,6))\n",
    "ax.scatter(x=happy.fittedvalues , y=happy.resid)\n",
    "ax.axhline(y=0, color = 'black', linestyle='-')\n",
    "plt.title('Fig.7a) Happiness: Residuals vs. Fits')\n",
    "plt.xlabel('Fitted Values')\n",
    "plt.ylabel('Residuals')\n",
    "plt.show()\n",
    "\n",
    "fig6 = plt.hist(happy.resid)\n",
    "plt.title('Fig.7b) Happiness: Residuals')\n",
    "plt.xlabel('Residuals')\n",
    "plt.ylabel('Counts')\n",
    "plt.show()\n",
    "\n",
    "\n",
    "fig7, ax = plt.subplots()#figsize=(8,6))\n",
    "ax.scatter(x=anxi.fittedvalues , y=anxi.resid)\n",
    "ax.axhline(y=0, color = 'black', linestyle='-')\n",
    "plt.title('Fig.8a) Anxiety: Residuals vs. Fits')\n",
    "plt.xlabel('Fitted Values')\n",
    "plt.ylabel('Residuals')\n",
    "plt.show()\n",
    "\n",
    "fig8 = plt.hist(anxi.resid)\n",
    "plt.title('Fig.8b) Anxiety: Residuals')\n",
    "plt.xlabel('Residuals')\n",
    "plt.ylabel('Counts')\n",
    "plt.show()"
   ]
  }
 ],
 "metadata": {
  "kernelspec": {
   "display_name": "Python 3 (ipykernel)",
   "language": "python",
   "name": "python3"
  },
  "language_info": {
   "codemirror_mode": {
    "name": "ipython",
    "version": 3
   },
   "file_extension": ".py",
   "mimetype": "text/x-python",
   "name": "python",
   "nbconvert_exporter": "python",
   "pygments_lexer": "ipython3",
   "version": "3.9.6"
  }
 },
 "nbformat": 4,
 "nbformat_minor": 5
}
